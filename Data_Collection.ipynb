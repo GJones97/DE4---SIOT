{
 "cells": [
  {
   "cell_type": "markdown",
   "metadata": {},
   "source": [
    "<h1>Sensing & The Internet of Things</h1>"
   ]
  },
  {
   "cell_type": "markdown",
   "metadata": {},
   "source": [
    "<h2>Gareth Jones, Data Collection</h2>"
   ]
  },
  {
   "cell_type": "markdown",
   "metadata": {},
   "source": [
    "Here you will find all of the code relating to gathering the data from the two core sources of data. The first is gained from the OpenWeather API, where the script below is collecting weather data for London every hour for the duration of 7 days and continually uploading the data to Google Sheets. The second is related to my personal step data which is collected via my iPhone and uploaded onto a Google Sheet for shared viewing and safe continuous storage."
   ]
  },
  {
   "cell_type": "markdown",
   "metadata": {},
   "source": [
    "<h3>Weather Data Collection</h3>"
   ]
  },
  {
   "cell_type": "code",
   "execution_count": 1,
   "metadata": {},
   "outputs": [
    {
     "name": "stdout",
     "output_type": "stream",
     "text": [
      "WeatherData Upload Complete\n"
     ]
    }
   ],
   "source": [
    "import gspread\n",
    "from oauth2client.service_account import ServiceAccountCredentials\n",
    "import time\n",
    "import datetime\n",
    "import requests\n",
    "from pprint import pprint\n",
    "\n",
    "\n",
    "\n",
    "    def weather():\n",
    "\n",
    "        timeout = time.time() + 60 * 60 * 24 * 14\n",
    "\n",
    "        while True:\n",
    "            if time.time() > timeout:\n",
    "                break\n",
    "            elif time.time() < timeout: \n",
    "\n",
    "                #Weather Dada from Open Weather Map API\n",
    "                city_id = '2643743' #london id from the openweather website\n",
    "                my_id = 'fdb62811d5dd7f35dca45dbb0066d158' #applied for an API key and this is mine - youll have to get yours\n",
    "                r = requests.get('http://api.openweathermap.org/data/2.5/weather?id='+city_id+'&appid='+my_id+'')\n",
    "                data = r.json()\n",
    "                city = data['name']\n",
    "                weather = data['weather'][0]['description']\n",
    "                wind_speed = data['wind']['speed']\n",
    "                temp_k = float(data['main']['temp'])\n",
    "                temp_c = (temp_k - 273.15)\n",
    "\n",
    "                now = datetime.datetime.now()\n",
    "\n",
    "                    #inserting the weather into another function which appends the data into a google sheet\n",
    "                google_sheets(now.strftime(\"%d/%m/%Y\"), now.strftime(\"%H:%M:%S\"), city, weather, wind_speed, temp_c)\n",
    "                time.sleep(60*60)\n",
    "\n",
    "\n",
    "    #Allowing the Weather data to be \n",
    "    def google_sheets(date, time, city, weather, wind_speed, temp_c):\n",
    "\n",
    "        scope = ['https://www.googleapis.com/auth/spreadsheets','https://spreadsheets.google.com/feeds', 'https://www.googleapis.com/auth/drive.file','https://www.googleapis.com/auth/drive']\n",
    "        creds = ServiceAccountCredentials.from_json_keyfile_name(\"Creds1.json\", scope)\n",
    "        client = gspread.authorize(creds)\n",
    "        sheet = client.open(\"WeatherData\")\n",
    "        now = datetime.datetime.now()\n",
    "\n",
    "        ws = sheet.get_worksheet(0) \n",
    "        ws.append_row([now.strftime(\"%d/%m/%Y\"), now.strftime(\"%H:%M:%S\"), city, weather, wind_speed, temp_c]) \n",
    "\n",
    "    weather()\n",
    "\n",
    "print('WeatherData Upload Complete')"
   ]
  },
  {
   "cell_type": "markdown",
   "metadata": {},
   "source": [
    "<h3>Step Data Collection</h3>"
   ]
  },
  {
   "cell_type": "code",
   "execution_count": 3,
   "metadata": {},
   "outputs": [
    {
     "name": "stdout",
     "output_type": "stream",
     "text": [
      "StepData Upload Complete\n"
     ]
    }
   ],
   "source": [
    "import gspread\n",
    "from oauth2client.service_account import ServiceAccountCredentials\n",
    "import time\n",
    "import datetime\n",
    "import requests\n",
    "import csv\n",
    "\n",
    "def step_data():\n",
    "    scope = ['https://www.googleapis.com/auth/spreadsheets','https://spreadsheets.google.com/feeds', 'https://www.googleapis.com/auth/drive.file','https://www.googleapis.com/auth/drive']\n",
    "    creds = ServiceAccountCredentials.from_json_keyfile_name(\"Creds2.json\", scope)\n",
    "    client = gspread.authorize(creds)\n",
    "    sheet = client.open(\"StepData\")\n",
    "    now = datetime.datetime.now()\n",
    "    \n",
    "    with open(\"HealthData.csv\") as f:\n",
    "        reader = csv.reader(f)\n",
    "        \n",
    "        for row in reader:\n",
    "\n",
    "            ws = sheet.get_worksheet(0)\n",
    "            ws.append_row(row)\n",
    "\n",
    "step_data()\n",
    "    \n",
    "print('StepData Upload Complete')"
   ]
  },
  {
   "cell_type": "code",
   "execution_count": null,
   "metadata": {},
   "outputs": [],
   "source": []
  }
 ],
 "metadata": {
  "kernelspec": {
   "display_name": "Python 3",
   "language": "python",
   "name": "python3"
  },
  "language_info": {
   "codemirror_mode": {
    "name": "ipython",
    "version": 3
   },
   "file_extension": ".py",
   "mimetype": "text/x-python",
   "name": "python",
   "nbconvert_exporter": "python",
   "pygments_lexer": "ipython3",
   "version": "3.7.3"
  }
 },
 "nbformat": 4,
 "nbformat_minor": 2
}
